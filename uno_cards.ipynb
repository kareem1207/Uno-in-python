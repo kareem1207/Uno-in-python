{
 "cells": [
  {
   "cell_type": "code",
   "execution_count": 14,
   "id": "9e4b9c62-5c05-4664-863f-467015b826bb",
   "metadata": {},
   "outputs": [
    {
     "name": "stdout",
     "output_type": "stream",
     "text": [
      "['red:6', 'yellow:🚫 card', 'yellow:reverse card']\n"
     ]
    }
   ],
   "source": [
    "from random import randint,choice\n",
    "#it is a class where we will get requried amount of cards\n",
    "class Cards :\n",
    "    def __init__(self,count=7):\n",
    "        self.cards_count=count\n",
    "    #this will return us cards \n",
    "    def cards(self):\n",
    "        #initalization \n",
    "        self.player_cards=[]\n",
    "        self.uno_cards=['0','1','2','3','4','5','6','7','8','9']\n",
    "        self.uno_special_nonColor_cards=['wild card','+4 card','blank card']\n",
    "        self.uno_special_color_cards=['🚫 card','reverse card','+2 card']\n",
    "        self.uno_cards_colors=[\"yellow\",\"red\",\"green\",\"blue\"]\n",
    "        self.uno_special_cards,self.uno_numeric_card=[],[]\n",
    "        for i in self.uno_special_color_cards:\n",
    "            for j in self.uno_cards_colors:\n",
    "                k=j+':'+i\n",
    "                self.uno_special_cards.append(k)\n",
    "        self.uno_special_cards+=self.uno_special_nonColor_cards\n",
    "        for i in self.uno_cards_colors:\n",
    "            for j in self.uno_cards:\n",
    "                k=i+':'+j\n",
    "                self.uno_numeric_card.append(k)\n",
    "        # distribution \n",
    "        while self.cards_count: \n",
    "            card_type=randint(0,1)\n",
    "            if card_type==0:\n",
    "                selected_card= choice(self.uno_numeric_card)\n",
    "            elif card_type==1:\n",
    "                selected_card=choice(self.uno_special_cards)    \n",
    "            self.player_cards.append(selected_card)\n",
    "            for i in self.player_cards:\n",
    "                if i in self.uno_numeric_card :\n",
    "                    self.cards_count-=1\n",
    "                    break\n",
    "            else :\n",
    "                self.player_cards=[]\n",
    "        return self.player_cards\n",
    "if __name__==\"__main__\":\n",
    "    uno=Cards()\n",
    "    k=uno.cards()\n",
    "    print(k)"
   ]
  },
  {
   "cell_type": "code",
   "execution_count": null,
   "id": "889cbfab-0f71-4dce-9206-a9468305f6fa",
   "metadata": {},
   "outputs": [],
   "source": []
  }
 ],
 "metadata": {
  "kernelspec": {
   "display_name": "Python 3 (ipykernel)",
   "language": "python",
   "name": "python3"
  },
  "language_info": {
   "codemirror_mode": {
    "name": "ipython",
    "version": 3
   },
   "file_extension": ".py",
   "mimetype": "text/x-python",
   "name": "python",
   "nbconvert_exporter": "python",
   "pygments_lexer": "ipython3",
   "version": "3.11.9"
  }
 },
 "nbformat": 4,
 "nbformat_minor": 5
}
